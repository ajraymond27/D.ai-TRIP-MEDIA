{
  "nbformat": 4,
  "nbformat_minor": 0,
  "metadata": {
    "colab": {
      "provenance": [],
      "include_colab_link": true
    },
    "kernelspec": {
      "name": "python3",
      "display_name": "Python 3"
    },
    "accelerator": "GPU"
  },
  "cells": [
    {
      "cell_type": "markdown",
      "metadata": {
        "id": "view-in-github",
        "colab_type": "text"
      },
      "source": [
        "<a href=\"https://colab.research.google.com/github/ajraymond27/D.ai-TRIP-MEDIA/blob/master/DeepFake.ipynb\" target=\"_parent\"><img src=\"https://colab.research.google.com/assets/colab-badge.svg\" alt=\"Open In Colab\"/></a>"
      ]
    },
    {
      "cell_type": "markdown",
      "metadata": {
        "id": "cdO_RxQZLahB"
      },
      "source": [
        "# Deepfakes with the First Order Model Method\n",
        "Creating uncanny deepfakes of famous sports stars by Jaume Clave  \n",
        "September 26th, 2020"
      ]
    },
    {
      "cell_type": "markdown",
      "metadata": {
        "id": "QARoDv33n6ad"
      },
      "source": [
        "## Index\n",
        "[Deepfakes](#Deepfakes)  \n",
        "\n",
        "[Evolution of the Deepfake](#Evolution-of-the-Deepfake)\n",
        "\n",
        "[Creating a Deepfake](#Creating-a-Deepfake)  \n",
        "i. [Extraction](#Extraction)  \n",
        "ii. [Training](#Training)  \n",
        "iii. [Creation](#Creation)  \n",
        "\n",
        "[First Order Model for Image Automation](#First-Order-Model-for-Image-Automation)  \n",
        "i. [Motion Extraction](#Motion-Extraction)  \n",
        "ii. [Generation Module](#Generation-Module)  \n",
        "iii. [Exectuing the Model](#Exectuing-the-Model)  \n",
        "\n",
        "[Neural Networks](#Neural-Networks)\n",
        "\n",
        "[Autoencoders](#Autoencoders)\n",
        "\n",
        "[Running on Custom Data](#Running-on-Custom-Data)\n",
        "\n",
        "[Conclusion](#Conclusion)\n",
        "\n",
        "[Further Reading](#Further-Reading)\n"
      ]
    },
    {
      "cell_type": "markdown",
      "metadata": {
        "id": "rASq3kbpn52Z"
      },
      "source": [
        "## Deepfakes <a name=\"Deepfakes\"></a> \n",
        "A deepfake, coming from the words *deep learning* and *fake*, is a synthetic media in which a person in an existing image or video is replaced with someone else's likeness. Deepfakes make use of powerful techniques from machine learning and artifical intellegence to manipulate and generate visual and audio content with a high potential to decieve. The underlying mechanism for deepfake creation is deep learning models such as autoencoders and generative adverisal networks (GAN). These models are used to to examine facial expressions and movements of a person and syntesixe facial images of another person making analogous expressions and movements. \n",
        "\n",
        "Deepfakes have garnered widespread attention for their uses in celebrity pornographic videos, revenge porn, fake news, hoaxes, and financial fraud. This has elicited responses from both industry and government to detect and limit their use. This paper will explore what deepfakes are, what machine learning algorithms are used to create a deepfake animation and how they can be run."
      ]
    },
    {
      "cell_type": "markdown",
      "metadata": {
        "id": "UcHTC4yssCIw"
      },
      "source": [
        "## Evolution of the Deepfake <a name=\"Evolution-of-the-Deepfake\"></a> \n",
        "In the late 90s and early 2000s face detection was a major area of research because of its possible implecations for military and security use. Almost twenty years later, this problem is basically solved and face detection technology is available freely as open-source libraries in most programming languages. Pythons most popular face detection library may be OpenCV or face-recognition. \n",
        "\n",
        "From here various apps have evolved to be able to swap faces of two people in images. Friends have used these apps to see how they would look with the other friends body and even switched faces with celebrities and politicians. \n",
        "\n",
        "\n",
        "<img src = 'https://drive.google.com/uc?id=1bR9F10B3V78dU_xAWDu6Om_3LpbbqDcJ' height = 200>\n",
        "\n",
        "<img src = 'https://drive.google.com/uc?id=1M7dcH0CaR0Ok-JBoEOJaghwEAYRbkHZd' height = 200>\n",
        "\n",
        "In the first set of images the *face alignment* process is initialized. Left: Detected facial landmarks and convex hull. Middle: Delaunay triangulation of points on convex hull. Right: Face alignment by affine warping triangles.\n",
        "\n",
        "In the second set of images the face-swap process is continued. The dst image is image onto which we want to blend the source image (i.e. the image of Donald Trump ). The mask is calculated by filling the convex hull with white using fillConvexPoly and the center is the center of the bounding box that contains the mask.\n",
        "\n",
        "Swaping faces programatically by warping and color correcting one faces to the others body may create good fakes but it has one huge disadvantage: it only works on pre-exisitning pictures. It cannot morph Face A to match the expression in Face B.  This changed in 2017 when a new approach to face-swap appeared on Reddit. This breakthrough relied on neural networks to generate these deepfakes which actually morophed a person's face to mimic someone else's features, all while perserving the original facial expression.\n",
        "\n"
      ]
    },
    {
      "cell_type": "markdown",
      "metadata": {
        "id": "eIKWGZzC5QDb"
      },
      "source": [
        "## Creating a Deepfake <a name=\"Creating-a-Deepfake\"></a> \n",
        "The deepfake creation process requires three steps: extraction, training and creation. This section will explain, at a top-level, what each of these stages mean and what they do in relation to the entire process. \n",
        "\n",
        "\n",
        "\n"
      ]
    },
    {
      "cell_type": "markdown",
      "metadata": {
        "id": "Du6clxUK9ve4"
      },
      "source": [
        "### Extraction <a name=\"Extraction\"></a> \n",
        "Deepfakes leverage deep neural networks to transform faces and require large amounts of data (images) to make it all work smoothly and believable. The extraction process refers to the step of extracting all frames from video clips, identifying the faces and aligning them to optimze for perfomance. \n",
        "\n",
        "<img src = 'https://drive.google.com/uc?id=1-PR60_fm-gF58AIkB3cUb-rH2osgiVxa' height = 200>\n",
        "\n",
        "The alignment is a critical step since the neural network that performs the faceswap requires all faces to have the same size (usualyl 256 x 256) and aligned features. Detecting and aligning faces is a problem that is considered mostly solved, and is done by most applications very efficiently (face detection)."
      ]
    },
    {
      "cell_type": "markdown",
      "metadata": {
        "id": "NVSWMg0Y9w-p"
      },
      "source": [
        "### Training <a name=\"Training\"></a> \n",
        "The training stage allows the neural network to convert a face into another. The training may take several hours or even days depending on the size of the training set and the device the model is trained on. Like training most other neural networks the training only needs to be completed once. Once the model is trained it would be able to convert a face from person A to person B.\n",
        "\n",
        "<img src = 'https://drive.google.com/uc?id=1VekvM6foF0Xjzk4LP7uCV5hGlVYUj5Zs' >\n",
        "\n",
        "\n",
        "This is the most technical step in the deepfake creation process and is explained in greater technical detail further into the paper."
      ]
    },
    {
      "cell_type": "markdown",
      "metadata": {
        "id": "rMz4rskP-4hO"
      },
      "source": [
        "### Creation <a name=\"Creation\"></a> \n",
        "Once the model is trained, a deepfake may be created. Starting from a video, frames are extracted and all faces are aligned. Each frame is then converted using the trained neural network. The final step is to merge the converted face back to the original frame. \n",
        "\n",
        "<img src = 'https://drive.google.com/uc?id=17l_Q1w3mDqmqfmBDDVOVA4PkYs2UwSAK' >\n",
        "\n",
        "The creation stage is the only one which does not make use of any machine learning algorithms. The process is to stich a face back onto an image is hard-coded and thus lacks the ability to detect mistakes.\n",
        "\n",
        "<img src = 'https://drive.google.com/uc?id=1asptwgEiDOWxclpsQgwQf2bb5w6qKPDy' >\n",
        "\n",
        "Each frame is also processed independitly which means there is no temporal correlation. A temporal correlation function is a function that gives the statistical correlation between random variable, contingent on the temporal (time) distance between those variables. The lack of this correlation results in the final video having some flickering. This is the part of deepfakes which requires the most amount of research in. "
      ]
    },
    {
      "cell_type": "markdown",
      "metadata": {
        "id": "GCDNKsEGLtR6"
      },
      "source": [
        "## First Order Model for Image Automation <a name=\"First-Order-Model-for-Image-Automation\"></a> \n",
        "The problme thus far, when it came to building deepfakes, was the need for additional information. For example, if the movement of the head was to be mapped there was a need for specific subject facial landmarks and full-body mappings required subject pose-estimation.  In 2019 a research team from the University of Toronto introduced a paper called *First Order Model for Image Automation* at the NeuraIPS conference. This paper presented an impressive way to animate a source image given a driving video, without any additional information or annotation about the object to automate. This method outperfomed state of the art on all the benchmarks and works well on a variety of images. Apart from this, once the model was trained, it can be used for transfer learning and it can be applied to an arbitraty object of the same category. The source code for the project can be found on [Aliaksandr Siarohin Github Repo](https://aliaksandrsiarohin.github.io/first-order-model-website/)\n",
        "\n",
        "This section explores the model the research team presented, explains how it works and clones it for use in this paper."
      ]
    },
    {
      "cell_type": "code",
      "metadata": {
        "id": "7KTY83lW3Kx-",
        "outputId": "43c14252-4fea-4301-9275-ec56dbd6db80",
        "colab": {
          "base_uri": "https://localhost:8080/"
        }
      },
      "source": [
        "## Mount Github\n",
        "from google.colab import drive\n",
        "drive.mount('/content/gdrive')"
      ],
      "execution_count": null,
      "outputs": [
        {
          "output_type": "stream",
          "name": "stdout",
          "text": [
            "Mounted at /content/gdrive\n"
          ]
        }
      ]
    },
    {
      "cell_type": "code",
      "metadata": {
        "id": "UCMFMJV7K-ag"
      },
      "source": [
        "## Clone the repo\n",
        "!pip install PyYAML==5.3.1\n",
        "!pip install imageio-ffmpeg\n",
        "!git clone https://github.com/AliaksandrSiarohin/first-order-model"
      ],
      "execution_count": null,
      "outputs": []
    },
    {
      "cell_type": "code",
      "metadata": {
        "id": "_WHLIWoH4oUb",
        "outputId": "add1219b-35c8-4393-ec2a-09438b2d43d8",
        "colab": {
          "base_uri": "https://localhost:8080/"
        }
      },
      "source": [
        "cd first-order-model"
      ],
      "execution_count": null,
      "outputs": [
        {
          "output_type": "stream",
          "name": "stdout",
          "text": [
            "/content/first-order-model\n"
          ]
        }
      ]
    },
    {
      "cell_type": "markdown",
      "metadata": {
        "id": "Xs4xlMP2vkFO"
      },
      "source": [
        "Working in Google Colab is beneficial for deep learning as Google gives access to its GPUs for free. Another benefit is the ability to mount a Google Drive to the cloud Virtual Machine (VM). This allows the user to access all his content easily. This section will contain the code required to mount Google Drive to the cloud VM. "
      ]
    },
    {
      "cell_type": "markdown",
      "metadata": {
        "id": "QokgYUaabyqA"
      },
      "source": [
        "### Motion Extraction <a name=\"Motion-Extraction\"></a> \n",
        "The purpose of the motion estimation module is to predict a dense motion field. The model assumes there exists an abstract reference frame and it independently estimates two transformations: from reference to source and from reference to driving. This choice allows the model to independently process source and driving frames. This is desired since, at test time the model receives pairs of the source image and driving frames sampled from a different video, which can be very different visually.\n",
        "\n",
        "The motion extractor utilizes an autoencoder to detect keypoints and extracts first-order motion representation that consists of sparse keypoints and local affine transformations. \n",
        "\n",
        "\n",
        "<img src = 'https://drive.google.com/uc?id=1e_aM4XLvLkXBlx7ItJckix-tZRFGbJeO' >"
      ]
    },
    {
      "cell_type": "markdown",
      "metadata": {
        "id": "QvG_ehVSbyPx"
      },
      "source": [
        "### Generation Module <a name=\"Generation-Module\"></a> \n",
        "Finally, the generation module renders an image of the source object moving as provided in the driving video. Here, the model uses a generator network that warps the source image according to dense motion and inpaints the image parts that are occluded in the source image.\n",
        "\n",
        "The motion estimator learns the latent representations of the motion in the video. These representations are encoded as motion-specific key point displacements (where key points can be the position of eyes or mouth) and local affine transformations. The output of the model is two-fold: a dense motion field and an occlusion mask. This mask defines which parts of the driving video can be reconstructed by warping the source image. The context needs to infer parts that are not present in the source image, such as the back of the person in the fashion example, where the person’s back is not presented in the source picture.\n",
        "\n",
        "The video generator output of the motion detector and the source image and animates it according to the driving video. It warps that source image in ways that resemble the driving video and the occluded parts."
      ]
    },
    {
      "cell_type": "markdown",
      "metadata": {
        "id": "rW-ipQXPOWUo"
      },
      "source": [
        "### Exectuing the Model <a name=\"Exectuing-the-Model\"></a> \n",
        "This section will use the OOB model to show how the model works. This is a vanilla example which takes a static image of Putin (source image)and a video of Obama (driving video). The output is a video of Putin, saying and vocalising with the exact facial expresions Obama moves with from the driving video.\n",
        "\n",
        "First the media will be loaded and functions will be declared which will help display the output of the model. The model will then be created and checkpoints will be loaded. Finally the deepfake will be created and two types of animation will be shows."
      ]
    },
    {
      "cell_type": "code",
      "metadata": {
        "id": "A9rdbPpIxf5B"
      },
      "source": [
        "## Import modules\n",
        "import imageio\n",
        "import numpy as np\n",
        "import matplotlib.pyplot as plt\n",
        "import matplotlib.animation as animation\n",
        "from skimage.transform import resize\n",
        "from IPython.display import HTML\n",
        "import warnings\n",
        "warnings.filterwarnings(\"ignore\")"
      ],
      "execution_count": null,
      "outputs": []
    },
    {
      "cell_type": "code",
      "metadata": {
        "id": "Oxi6-riLOgnm"
      },
      "source": [
        "# ## Load source and drive\n",
        "# source_image = imageio.imread('/content/mahomes.png')\n",
        "# driving_video = imageio.mimread('/content/test3.mov')\n",
        "\n",
        "# ## Resize image and video to 256x256\n",
        "# source_image = resize(source_image, (256, 256))[..., :3]\n",
        "# driving_video = [resize(frame, (256, 256))[..., :3] for frame in driving_video]\n",
        "\n",
        "def display(source, driving, generated=None):\n",
        "    fig = plt.figure(figsize=(8 + 4 * (generated is not None), 6))\n",
        "\n",
        "    ims = []\n",
        "    for i in range(len(driving)):\n",
        "        cols = [source]\n",
        "        cols.append(driving[i])\n",
        "        if generated is not None:\n",
        "            cols.append(generated[i])\n",
        "        im = plt.imshow(np.concatenate(cols, axis=1), animated=True)\n",
        "        plt.axis('off')\n",
        "        ims.append([im])\n",
        "\n",
        "    ani = animation.ArtistAnimation(fig, ims, interval=50, repeat_delay=1000)\n",
        "    plt.close()\n",
        "    return ani\n",
        "    \n",
        "# HTML(display(source_image, driving_video).to_html5_video())"
      ],
      "execution_count": null,
      "outputs": []
    },
    {
      "cell_type": "code",
      "metadata": {
        "id": "3FQiXqQPWt5B"
      },
      "source": [
        "## Create model\n",
        "from demo import load_checkpoints\n",
        "generator, kp_detector = load_checkpoints(config_path='config/vox-256.yaml', \n",
        "                            checkpoint_path='/content/gdrive/Shareddrives/D.ai TRIP MEDIA/D.ai MODELS/Production Models/Deep Fake/vox-adv-cpk.pth.tar')"
      ],
      "execution_count": null,
      "outputs": []
    },
    {
      "cell_type": "markdown",
      "metadata": {
        "id": "HcqdRm8SAyM4"
      },
      "source": [
        "Relative keypoint displacment is used to animate Putin using Obama's motion. It is impressive to see how the expressions and movements Obama has and uses during his videos are animated well and clearly for Putin. There are some slight errors, especially when Obama lifts his eyebrows and opens his eyes. Putins frames do not perfectly mimic those expresions. However, if the Putin video was seen on TV or Social Media without the deepfake context it would look quite believable and real."
      ]
    },
    {
      "cell_type": "markdown",
      "metadata": {
        "id": "-tJN01xQCpqH"
      },
      "source": [
        "In the cell above relative keypoint displacement is used to animate the objects. The following cell makes use of absolute coordinates instead, but in this way all the object proporions will be inherited from the driving video."
      ]
    },
    {
      "cell_type": "code",
      "metadata": {
        "id": "aOE_W_kfC9aX"
      },
      "source": [
        "# ## Absolute coordinates\n",
        "# predictions = make_animation(source_image, driving_video, generator, kp_detector, relative=False, adapt_movement_scale=True)\n",
        "# HTML(display(source_image, driving_video, predictions).to_html5_video())"
      ],
      "execution_count": null,
      "outputs": []
    },
    {
      "cell_type": "markdown",
      "metadata": {
        "id": "h7cP9uwmA7Sv"
      },
      "source": [
        "## Neural Networks <a name=\"Neural-Networks\"></a> \n",
        "Neural networks are computational systems loosely inspored by the way in which the brain processes information. Special cells called neurons are connected to each other in a dense network, which allow information to be processed and transmitted. In computer science, artificial neural networks are made out of thousands of nodes, connectred in specific fashion. These nodes are typically arranged in layers; the way in which they are connected determines the type of the network and ultimately, its ability to perform a certain computational task over another one. \n",
        "\n",
        "<img src = 'https://drive.google.com/uc?id=1nhDO_BYIsyT163bpALey0DeUkU3gs5BL' >\n",
        "\n",
        "Each node or neuron in the *input layer* contains a numerical value that encodes the input that will be fed to the network.\n",
        "\n",
        "For example, if the network is trying to predict the weather, the input nodes might contain the pressure, temperature, humidity and wind speed encoded as numbers in the [-1, +1] range. These values are then broadcast to the next layer; each edge dampens or amplifies the values it transmits. Each node sums all the values it recieves, and outputs a new one based on its own function. The result of the computation can be retrieved from the output layer; in this case, only one value is prodced. \n",
        "\n",
        "#### ANNs with Images\n",
        "When images are the input (or output) of a neural network, typically the network has three input nodes for each pixel, initialised with the amount of red, green and blue it contains. The most effective architecture for image-based applications so far are convolutional neural networks (CNN), which is exactly what deepfake models leverage. \n",
        "\n",
        "Training a neural network means finding a set of weights for all edges, so that the output layer produces the desired result. One of the most used technique to achieve this is called backpropagation, and it works by re-adjusting the weights every time the network makes a mistake.\n",
        "\n",
        "The basic idea behind face detection and image generation is that each layer will represent progressively core complex features. In the case of a face, for instance, the first layer might detect edges, the second face features, which the third layer is able to use to detect images.\n",
        "\n",
        "<img src = 'https://drive.google.com/uc?id=1Jem-FWW-yD7NR7gRWc_eyJwdlhaCDAu7'> \n"
      ]
    },
    {
      "cell_type": "markdown",
      "metadata": {
        "id": "dAJ-w-MaDpDM"
      },
      "source": [
        "## Autoencoders <a name=\"Autoencoders\"></a> \n",
        "An autoencoder is a type of artificial neural network used to learn efficient data codings in an unsupervised manner. The aim of an autoencoder is to learn a representation (encoding) for a set of data, typically for dimensionality reduction, by training the network to ignore signal “noise”. This section will explain what an autoencoder does and its importance to a deepfake model.\n",
        "\n",
        "The network below has two fully connected hidden layers, with four neurons each.\n",
        "\n",
        "<img src = 'https://drive.google.com/uc?id=1hGCxK-Aqca6NGptc7YUYR2eL8fFv84f0' >\n",
        "\n",
        "If this network is trained as an autoencoder, a problem may arise. Edges might converge to a solution where the input values are simply transported into their respective output nodes, as seen in the diagram below. When this happens, no real learning is happening; the network has rewired itself to simply connect the output nodes to the input ones.\n",
        "\n",
        "<img src = 'https://drive.google.com/uc?id=1Iy4c6PJmKHzMhBlsISpZH3kQPYwjR8uF' >\n",
        "\n",
        "However, if one of the layers has fewer nodes than the other, the input values cannot be simply connected to their respective output nodes. In these situations, the autoencoder has to somehow compress the information provided and it must reconstruct it before presenting it as its final output. \n",
        "\n",
        "<img src = 'https://drive.google.com/uc?id=1rKjWFle05fb1hcsNaDaGfCevwGkm9kM-' >\n",
        "\n",
        "If the training is succesful, the autoencoder has learned how to represent the input values in a different, yet more compact form. The autoencoder can be decoupled into two separate networks: an encoder and a decoder, both sharing the layer in the middle. The values $[Y_0, Y_1]$ are often referred to as base vector, and they represent the input image in the so-called latent space.\n",
        "\n",
        "Autoencoders are naturally lossy, meaning that they will not be able to reconstruct the input image perfectly. However, because the autoencoder is forced to reconstruct the input image as best as it can, it has to learn how to identify and to represents its most meaningful features. Because the smaller details are often ignored or lost, an autoencoder can be used to denoise images.\n",
        "\n",
        "\n"
      ]
    },
    {
      "cell_type": "markdown",
      "metadata": {
        "id": "QnXrecuX6_Kw"
      },
      "source": [
        "## Running on Custom Data <a name=\"Running-on-Custom-Data\"></a> \n",
        "The deepfakes created above used two well known political figures and in order to have more flexiablity, the models need to be run on custom data. With custom data we can use our own source image along with our own driving video to create the deepfakes we desire. Since the model is already trained these are quickly created and loaded. \n",
        "\n",
        "In order to run on custom data a face from both source image and video needs to be cropped to the adequate dimensions (256 x 256), while simple graphic editor like paint can be used for cropping from image... Cropping from video is more complicated. \n",
        "\n",
        "Ffmpeg can be used for video cropping. FFmpeg is a free and open-source software project consisting of a large suite of libraries and programs for handling video, audio, and other multimedia files and streams. The code below calls the desired driving video from a Google Drive folder and crops it to be 256 x 256 pixels."
      ]
    },
    {
      "cell_type": "code",
      "metadata": {
        "id": "brJlA_5o72Xc"
      },
      "source": [
        "## Video cropping with Ffmpeg\n",
        "!ffmpeg -i /content/RECAP.mp4 -s 256x256 -c:a copy result.mp4"
      ],
      "execution_count": null,
      "outputs": []
    },
    {
      "cell_type": "markdown",
      "metadata": {
        "id": "-jKsAEYvtPrN"
      },
      "source": [
        "#### Lebron James\n",
        "This deepfake will use a video I created in my room, saying some sentences, makings some facial expressions and moving my head around.\n",
        "\n",
        "The static image, and the person the deepfake will be created about is Lebron James. A 3-time NBA champion and extremely well known Nike athlete. Although there are some obvious errors, overall this deepfake is okay. The biggest issue, I think, with this deepfake is the HD resolution of the static Lebron image. Since the image is so high quality there are some motion generation errors."
      ]
    },
    {
      "cell_type": "code",
      "metadata": {
        "id": "zHuzUA4gYI35"
      },
      "source": [
        "from demo import make_animation\n",
        "from skimage import img_as_ubyte\n",
        "\n",
        "## Lebron image\n",
        "source_image = imageio.imread('/content/01_manning.png')\n",
        "driving_video = imageio.mimread('result.mp4', memtest=False)\n",
        "\n",
        "## Resize image and video to 256x256\n",
        "source_image = resize(source_image, (256, 256))[..., :3]\n",
        "driving_video = [resize(frame, (256, 256))[..., :3] for frame in driving_video]\n",
        "\n",
        "predictions = make_animation(source_image, driving_video, generator, kp_detector, relative=True,\n",
        "                             adapt_movement_scale=True)\n",
        "\n",
        "# HTML(display(source_image, driving_video, predictions).to_html5_video())"
      ],
      "execution_count": null,
      "outputs": []
    },
    {
      "cell_type": "code",
      "source": [
        "## Save resulting video\n",
        "fps=30\n",
        "imageio.mimsave('../generated.mp4', [img_as_ubyte(frame) for frame in predictions], fps=fps)"
      ],
      "metadata": {
        "id": "45Qju94sT_pu"
      },
      "execution_count": null,
      "outputs": []
    },
    {
      "cell_type": "markdown",
      "metadata": {
        "id": "U4NjhGC0nTsd"
      },
      "source": [
        "## Conclusion <a name=\"Conclusion\"></a> \n",
        "It is becoming easier and easier to create quality deepfakes. Society should needs to understand of the possible dangerous this technology may be used for. Fake poltical speeches, fake advertisment endorsments and even create jokes to decieve between friends or family. By understanding its existence, people can be aware and pay more attention to discerning between real and fake.\n",
        "\n",
        "Fake news is part of the fabric of today’s internet, now with Deepfakes easily assessable; this has brought disinformation to a whole new level. It has affected politics by spreading false information. It has led to people exploited by scammers who are using it to cheat money online. Deepfakes, as a form of disinformation, are dangerous. We need to educate people about technology, and people need to discern the truth rather than just believing what we see.\n",
        "\n",
        "These deepfakes lack audio. With no volume or noise, maybe with subtitles these will be believed, but ultimately to create a true deepfake the voice needs to also be duped. This will be explored in following projects. A persons pitch, emotions and the way they sound must be copied and overlayed to enhance the realism of the deepfake "
      ]
    },
    {
      "cell_type": "markdown",
      "metadata": {
        "id": "CznF80GYnWOt"
      },
      "source": [
        "## Further Reading <a name=\"Further-Reading\"></a> \n",
        "#### Deepfakes \n",
        "https://en.wikipedia.org/wiki/Deepfake    \n",
        "https://arxiv.org/pdf/1909.11573.pdf   \n",
        "https://www.kaggle.com/gpreda/deepfake-starter-kit    \n",
        "\n",
        "#### Deeplearning\n",
        "http://deeplearning.net/   \n",
        "https://machinelearningmastery.com/what-is-deep-learning/    \n",
        "https://www.mathworks.com/discovery/deep-learning.html    \n",
        "\n",
        "#### First Order Method Model\n",
        "https://github.com/AliaksandrSiarohin/first-order-model    \n",
        "https://aliaksandrsiarohin.github.io/first-order-model-website/  \n",
        "http://papers.nips.cc/paper/8935-first-order-motion-model-for-image-animation  \n"
      ]
    }
  ]
}