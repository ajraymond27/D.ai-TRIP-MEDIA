{
  "nbformat": 4,
  "nbformat_minor": 0,
  "metadata": {
    "colab": {
      "name": "Fast_Style_NST.ipynb",
      "private_outputs": true,
      "provenance": [],
      "collapsed_sections": [
        "4o8dgWZXE1tV"
      ],
      "authorship_tag": "ABX9TyNH7ql3LeOgzqZhhed55q43",
      "include_colab_link": true
    },
    "kernelspec": {
      "name": "python3",
      "display_name": "Python 3"
    },
    "language_info": {
      "name": "python"
    },
    "accelerator": "GPU"
  },
  "cells": [
    {
      "cell_type": "markdown",
      "metadata": {
        "id": "view-in-github",
        "colab_type": "text"
      },
      "source": [
        "<a href=\"https://colab.research.google.com/github/ajraymond27/DeepLearningVids/blob/master/Fast_Style_NST.ipynb\" target=\"_parent\"><img src=\"https://colab.research.google.com/assets/colab-badge.svg\" alt=\"Open In Colab\"/></a>"
      ]
    },
    {
      "cell_type": "markdown",
      "metadata": {
        "id": "VCiGImELD4uF"
      },
      "source": [
        "# **Enabling and Testing GPU**"
      ]
    },
    {
      "cell_type": "code",
      "metadata": {
        "id": "EPtvvu3lDvIA",
        "cellView": "form"
      },
      "source": [
        "#@title Hit This GPU Bruh\n",
        "#Check if GPU is connected\n",
        "%tensorflow_version 2.x\n",
        "import tensorflow as tf\n",
        "device_name = tf.test.gpu_device_name()\n",
        "if device_name != '/device:GPU:0':\n",
        "  raise SystemError('GPU device not found')\n",
        "print('Found GPU at: {}'.format(device_name))\n",
        "\n",
        "# How much GPU, tho?\n",
        "gpu_info = !nvidia-smi\n",
        "gpu_info = '\\n'.join(gpu_info)\n",
        "if gpu_info.find('failed') >= 0:\n",
        "  print('Not connected to a GPU')\n",
        "else:\n",
        "  print(gpu_info)\n",
        "\n",
        "# What about RAM?\n",
        "from psutil import virtual_memory\n",
        "ram_gb = virtual_memory().total / 1e9\n",
        "print('Your runtime has {:.1f} gigabytes of available RAM\\n'.format(ram_gb))\n",
        "\n",
        "if ram_gb < 20:\n",
        "  print('Not using a high-RAM runtime')\n",
        "else:\n",
        "  print('You are using a high-RAM runtime!')"
      ],
      "execution_count": null,
      "outputs": []
    },
    {
      "cell_type": "markdown",
      "metadata": {
        "id": "zTA9YBBID-Jz"
      },
      "source": [
        "# **Import & Configure**"
      ]
    },
    {
      "cell_type": "code",
      "metadata": {
        "id": "uU4--JBGD9f4",
        "cellView": "form"
      },
      "source": [
        "#@title Art Vandalay, Importer / Exporter\n",
        "import os\n",
        "# Load compressed models from tensorflow_hub\n",
        "os.environ['TFHUB_MODEL_LOAD_FORMAT'] = 'COMPRESSED'\n",
        "tf.__version__\n",
        "\n",
        "from tensorflow.keras.preprocessing.image import ImageDataGenerator\n",
        "\n",
        "import IPython.display as display\n",
        "\n",
        "import matplotlib.pyplot as plt\n",
        "import matplotlib as mpl\n",
        "mpl.rcParams['figure.figsize'] = (12, 12)\n",
        "mpl.rcParams['axes.grid'] = False\n",
        "\n",
        "import numpy as np\n",
        "import PIL.Image\n",
        "import time\n",
        "import functools\n",
        "import time"
      ],
      "execution_count": null,
      "outputs": []
    },
    {
      "cell_type": "markdown",
      "metadata": {
        "id": "aoc59U8jEIPr"
      },
      "source": [
        "# **Set Path to Content and Style Images**"
      ]
    },
    {
      "cell_type": "code",
      "metadata": {
        "id": "smzt3v9yEJmD",
        "cellView": "form"
      },
      "source": [
        "#@title Download Google\n",
        "!pip install -U -q PyDrive\n",
        "from pydrive.auth import GoogleAuth\n",
        "from pydrive.drive import GoogleDrive\n",
        "from google.colab import auth\n",
        "from oauth2client.client import GoogleCredentials\n",
        "from google.colab import files"
      ],
      "execution_count": null,
      "outputs": []
    },
    {
      "cell_type": "code",
      "metadata": {
        "id": "0Ox0Z_9ZELhd",
        "cellView": "form"
      },
      "source": [
        "#@title Authenticate Yourself\n",
        "auth.authenticate_user()\n",
        "gauth = GoogleAuth()\n",
        "gauth.credentials = GoogleCredentials.get_application_default()\n",
        "drive = GoogleDrive(gauth)"
      ],
      "execution_count": null,
      "outputs": []
    },
    {
      "cell_type": "code",
      "metadata": {
        "id": "0OsDsP7gENFc",
        "cellView": "form"
      },
      "source": [
        "#@title Search for your .zip file in company Google Drive folder\n",
        "#@markdown Format the two fields like this (copy/paste):\n",
        "\n",
        "#@markdown query: title = 'example.zip'\n",
        "\n",
        "#@markdown zip: example.zip\n",
        "\n",
        "query = \"title='example.zip'\" #@param {type:\"string\"}\n",
        "zip = \"example.zip\" #@param {type:\"string\"}\n",
        "\n",
        "# fid = drive.ListFile({'q':\"title='weed.zip'\"}).GetList()[0]['id']\n",
        "# f = drive.CreateFile({'id': fid})\n",
        "# f.GetContentFile('weed.zip')\n",
        "\n",
        "fid = drive.ListFile({'q': query}).GetList()[0]['id']\n",
        "f = drive.CreateFile({'id': fid})\n",
        "f.GetContentFile(zip)"
      ],
      "execution_count": null,
      "outputs": []
    },
    {
      "cell_type": "code",
      "metadata": {
        "id": "vw26fStDEPhg",
        "cellView": "form"
      },
      "source": [
        "#@title Connect to Google Drive\n",
        "from google.colab import drive\n",
        "drive.mount('/content/drive')"
      ],
      "execution_count": null,
      "outputs": []
    },
    {
      "cell_type": "markdown",
      "metadata": {
        "id": "fNVgnhrNfwOu"
      },
      "source": [
        "# **Load Content and Style Images**\n",
        "\n",
        "## Unzip your .zip\n",
        "Change \"example.zip\" to your zip file name. The code below should look like this:\n",
        "\n",
        "\n",
        "---\n",
        "\n",
        "\n",
        "\n",
        "f.keys()\n",
        "\n",
        "!unzip example.zip\n"
      ]
    },
    {
      "cell_type": "code",
      "metadata": {
        "id": "k-yUlX0dERF4",
        "cellView": "code"
      },
      "source": [
        "f.keys()\n",
        "!unzip example.zip"
      ],
      "execution_count": null,
      "outputs": []
    },
    {
      "cell_type": "code",
      "metadata": {
        "id": "cNfim1UxEVFy",
        "cellView": "form"
      },
      "source": [
        "#@title Download all content and style images\n",
        "PATH = '/content/' + zip.strip(\".zip\")\n",
        "\n",
        "# os.remove(os.path.join(PATH,\n",
        "#                          'content/.DS_Store'))\n",
        "\n",
        "os.listdir(PATH)\n",
        "\n",
        "content_path = os.path.join(PATH,\n",
        "                         'content/')\n",
        "\n",
        "style_path = os.path.join(PATH,\n",
        "                        'style/style.png')\n",
        "\n",
        "def tensor_to_image(tensor):\n",
        "  tensor = tensor*255\n",
        "  tensor = np.array(tensor, dtype=np.uint8)\n",
        "  if np.ndim(tensor)>3:\n",
        "    assert tensor.shape[0] == 1\n",
        "    tensor = tensor[0]\n",
        "  return PIL.Image.fromarray(tensor)\n",
        "\n",
        "def load_img(path_to_img):\n",
        "  max_dim = 3840\n",
        "  img = tf.io.read_file(path_to_img)\n",
        "  img = tf.image.decode_image(img, channels=3)\n",
        "  img = tf.image.convert_image_dtype(img, tf.float32)\n",
        "\n",
        "  shape = tf.cast(tf.shape(img)[:-1], tf.float32)\n",
        "  long_dim = max(shape)\n",
        "  scale = max_dim / long_dim\n",
        "\n",
        "  new_shape = tf.cast(shape * scale, tf.int32)\n",
        "\n",
        "  img = tf.image.resize(img, new_shape)\n",
        "  img = img[tf.newaxis, :]\n",
        "  return img\n",
        "\n",
        "def imshow(image, title=None):\n",
        "  if len(image.shape) > 3:\n",
        "    image = tf.squeeze(image, axis=0)\n",
        "\n",
        "  plt.imshow(image)\n",
        "  if title:\n",
        "    plt.title(title)\n",
        "\n",
        "content_images = []\n",
        "\n",
        "# iterate through the names of contents of the folder\n",
        "for image_path in sorted(os.listdir(content_path)[0:5]):\n",
        "\n",
        "  # create the full input path and read the file\n",
        "  input_path = os.path.join(content_path, image_path)\n",
        "  content_image = load_img(input_path)\n",
        "\n",
        "  content_images.append(content_image)\n",
        "\n",
        "\n",
        "style_image = load_img(style_path)\n",
        "\n",
        "plt.subplot(1, 2, 1)\n",
        "imshow(content_images[0], 'Content Image')\n",
        "\n",
        "plt.subplot(1, 2, 2)\n",
        "imshow(style_image, 'Style Image')"
      ],
      "execution_count": null,
      "outputs": []
    },
    {
      "cell_type": "markdown",
      "metadata": {
        "id": "oVFwom_KEngP"
      },
      "source": [
        "# Fast Style Transfer"
      ]
    },
    {
      "cell_type": "code",
      "metadata": {
        "id": "jeBz1tp1En-t",
        "cellView": "form"
      },
      "source": [
        "#@title Run Fast Style Transfer\n",
        "import tensorflow_hub as hub\n",
        "hub_model = hub.load('https://tfhub.dev/google/magenta/arbitrary-image-stylization-v1-256/2')\n",
        "\n",
        "fast_styled_images = []\n",
        "start = time.time()\n",
        "\n",
        "for i in content_images[0:2]:\n",
        "  stylized_image = hub_model(tf.constant(i), tf.constant(style_image))[0]\n",
        "  tensor_to_image(stylized_image)\n",
        "  fast_styled_images.append(stylized_image)\n",
        "\n",
        "end = time.time()\n",
        "print(\"Total time: {:.1f}\".format(end-start))\n",
        "print(\"Number of Styled Frames: {}\".format(len(fast_styled_images)))\n",
        "print(\"Example:\")\n",
        "tensor_to_image(fast_styled_images[0])"
      ],
      "execution_count": null,
      "outputs": []
    },
    {
      "cell_type": "markdown",
      "metadata": {
        "id": "4o8dgWZXE1tV"
      },
      "source": [
        "# Save Styled Images"
      ]
    },
    {
      "cell_type": "code",
      "metadata": {
        "id": "sUIRrtg4ZBaQ",
        "cellView": "form"
      },
      "source": [
        "#@title Save output to company drive folder\n",
        "import os\n",
        "os.chdir('/content/drive/MyDrive/entertAIn/Output/' + zip)\n",
        "!pwd\n",
        "\n",
        "count = 0\n",
        "\n",
        "for i in fast_styled_images:\n",
        "  file_name = 'fast-styled-image-' + str(count) + \".png\"\n",
        "  tensor_to_image(i).save(file_name)\n",
        "  files.download(file_name)\n",
        "  count += 1"
      ],
      "execution_count": null,
      "outputs": []
    }
  ]
}