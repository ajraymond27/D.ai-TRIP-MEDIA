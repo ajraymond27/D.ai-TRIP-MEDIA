{
  "cells": [
    {
      "cell_type": "markdown",
      "metadata": {
        "id": "view-in-github",
        "colab_type": "text"
      },
      "source": [
        "<a href=\"https://colab.research.google.com/github/ajraymond27/D.ai-TRIP-MEDIA/blob/master/Synth_Style_Transfer.ipynb\" target=\"_parent\"><img src=\"https://colab.research.google.com/assets/colab-badge.svg\" alt=\"Open In Colab\"/></a>"
      ]
    },
    {
      "cell_type": "markdown",
      "metadata": {
        "id": "y6M9pfsZTBZA"
      },
      "source": [
        "# style-transfer-pytorch\n",
        "\n",
        "An implementation of neural style transfer ([A Neural Algorithm of Artistic Style](https://arxiv.org/abs/1508.06576)) in PyTorch, supporting CPUs and Nvidia GPUs. It does automatic multi-scale (coarse-to-fine) stylization to produce high-quality high resolution stylizations, even up to print resolution if the GPUs have sufficient memory.\n",
        "\n",
        "See [the GitHub repo](https://github.com/crowsonkb/style-transfer-pytorch) for more information."
      ]
    },
    {
      "cell_type": "code",
      "execution_count": null,
      "metadata": {
        "cellView": "form",
        "id": "EhKX2A6TA-wL"
      },
      "outputs": [],
      "source": [
        "#@title Art Vandalay, Importer / Exporter\n",
        "!nvidia-smi\n",
        "!git clone https://github.com/crowsonkb/style-transfer-pytorch\n",
        "!pip install -e ./style-transfer-pytorch"
      ]
    },
    {
      "cell_type": "markdown",
      "metadata": {
        "id": "I6sY6Db8TwzO"
      },
      "source": [
        "# Style Transfer\n",
        "Upload your content and style image using the Files tab in the left side bar. \n",
        "\n",
        "Rename your files as 'content.png' and 'style.png' or update the two file names in the code below to match yours.\n",
        "\n",
        "You can also update the size parameter ( -s 512 ) below to choose your resolution width - assuming landscape orientation"
      ]
    },
    {
      "cell_type": "code",
      "execution_count": null,
      "metadata": {
        "colab": {
          "background_save": true
        },
        "id": "hoYgdESECjYv"
      },
      "outputs": [],
      "source": [
        "!style_transfer content.png vangogh.png -s 1920"
      ]
    },
    {
      "cell_type": "code",
      "execution_count": null,
      "metadata": {
        "colab": {
          "base_uri": "https://localhost:8080/"
        },
        "id": "B1QcD08npPnE",
        "outputId": "847af6e9-3ec1-4080-941c-08d764802488"
      },
      "outputs": [
        {
          "name": "stdout",
          "output_type": "stream",
          "text": [
            "Mounted at /content/drive\n"
          ]
        }
      ],
      "source": [
        "from google.colab import drive\n",
        "drive.mount('/content/drive')"
      ]
    },
    {
      "cell_type": "code",
      "execution_count": null,
      "metadata": {
        "id": "_5REGQYyQR6X"
      },
      "outputs": [],
      "source": [
        "#@title Display your styled image\n",
        "#@markdown Use the Files tab in the left sidebar to download your photo. It will be named 'out.png'\n",
        "\n",
        "import IPython\n",
        "\n",
        "IPython.display.Image('out.png')"
      ]
    }
  ],
  "metadata": {
    "accelerator": "GPU",
    "colab": {
      "provenance": [],
      "include_colab_link": true
    },
    "kernelspec": {
      "display_name": "Python 3",
      "name": "python3"
    }
  },
  "nbformat": 4,
  "nbformat_minor": 0
}